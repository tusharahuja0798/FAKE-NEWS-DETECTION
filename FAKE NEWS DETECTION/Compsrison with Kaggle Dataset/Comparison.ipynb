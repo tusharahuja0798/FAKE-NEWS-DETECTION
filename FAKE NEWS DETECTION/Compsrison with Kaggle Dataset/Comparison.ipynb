{
  "nbformat": 4,
  "nbformat_minor": 0,
  "metadata": {
    "colab": {
      "name": "FAKENEWS_Newdataset.ipynb",
      "version": "0.3.2",
      "provenance": [],
      "collapsed_sections": []
    },
    "kernelspec": {
      "name": "python3",
      "display_name": "Python 3"
    }
  },
  "cells": [
    {
      "cell_type": "code",
      "metadata": {
        "id": "BzWBNaeQl9RH",
        "colab_type": "code",
        "colab": {}
      },
      "source": [
        "!pip install -U -q PyDrive\n",
        "from pydrive.auth import GoogleAuth\n",
        "from pydrive.drive import GoogleDrive\n",
        "from google.colab import auth\n",
        "from oauth2client.client import GoogleCredentials"
      ],
      "execution_count": 0,
      "outputs": []
    },
    {
      "cell_type": "code",
      "metadata": {
        "id": "e12_eqOPmKYV",
        "colab_type": "code",
        "colab": {}
      },
      "source": [
        "auth.authenticate_user()\n",
        "gauth = GoogleAuth()\n",
        "gauth.credentials = GoogleCredentials.get_application_default()\n",
        "drive = GoogleDrive(gauth)"
      ],
      "execution_count": 0,
      "outputs": []
    },
    {
      "cell_type": "code",
      "metadata": {
        "id": "t78XoJVmmTOq",
        "colab_type": "code",
        "colab": {}
      },
      "source": [
        "fileid_1='1LpuTmUqO0qLuiZt-nNUOY1Urbye2K5f-'\n",
        "fileid_2='1ILzNrunsdUjO_2y77MCneBf7CtsyjrYg'\n",
        "downloaded=drive.CreateFile({'id':fileid_1})\n",
        "downloaded.GetContentFile('FAKENEWSDETECT_DATASET.csv')\n",
        "\n",
        "downloaded=drive.CreateFile({'id':fileid_2})\n",
        "downloaded.GetContentFile('fake_or_real_news.csv')"
      ],
      "execution_count": 0,
      "outputs": []
    },
    {
      "cell_type": "code",
      "metadata": {
        "id": "-tkzR6vjoQKS",
        "colab_type": "code",
        "colab": {}
      },
      "source": [
        "\n",
        "import pandas as pd    #data processing\n",
        "import numpy as np     #linear algebra\n",
        "import matplotlib.pyplot as plt   #plotting graphs\n",
        "from mpl_toolkits.mplot3d import Axes3D   #3d image for an object\n",
        "from sklearn.preprocessing import StandardScaler    #Standardization of data\n",
        "import os"
      ],
      "execution_count": 0,
      "outputs": []
    },
    {
      "cell_type": "code",
      "metadata": {
        "id": "Q2LwgdbtovB0",
        "colab_type": "code",
        "colab": {}
      },
      "source": [
        "#nRowsRead=1000\n",
        "df1=pd.read_csv('FAKENEWSDETECT_DATASET.csv',nrows=5000)\n",
        "df1_val=pd.read_csv('fake_or_real_news.csv',nrows=5000)\n"
      ],
      "execution_count": 0,
      "outputs": []
    },
    {
      "cell_type": "code",
      "metadata": {
        "id": "uumq_VV0ivRg",
        "colab_type": "code",
        "colab": {
          "base_uri": "https://localhost:8080/",
          "height": 74
        },
        "outputId": "901771f3-f75b-493e-c409-29bf3e2bf118"
      },
      "source": [
        "from sklearn.model_selection import train_test_split\n",
        "df2 = df1[pd.notnull(df1['fake'])]\n",
        "df2 = df2[pd.notnull(df2['news'])]\n",
        "y=(df2['fake']=='0').astype(int)\n",
        "df2_val = df1_val[pd.notnull(df1_val['label'])]\n",
        "df2_val = df2_val[pd.notnull(df2_val['title'])]\n",
        "y_val=(df2_val['label']=='REAL').astype(int)"
      ],
      "execution_count": 6,
      "outputs": [
        {
          "output_type": "stream",
          "text": [
            "/usr/local/lib/python3.6/dist-packages/pandas/core/ops.py:1649: FutureWarning: elementwise comparison failed; returning scalar instead, but in the future will perform elementwise comparison\n",
            "  result = method(y)\n"
          ],
          "name": "stderr"
        }
      ]
    },
    {
      "cell_type": "code",
      "metadata": {
        "id": "2Hi1ZylOLmYr",
        "colab_type": "code",
        "outputId": "b3a04799-ec19-418a-bde0-334106dbe01e",
        "colab": {
          "base_uri": "https://localhost:8080/",
          "height": 35
        }
      },
      "source": [
        "df1['fake'].unique().tolist()\n"
      ],
      "execution_count": 7,
      "outputs": [
        {
          "output_type": "execute_result",
          "data": {
            "text/plain": [
              "[nan, 1.0, 0.0]"
            ]
          },
          "metadata": {
            "tags": []
          },
          "execution_count": 7
        }
      ]
    },
    {
      "cell_type": "code",
      "metadata": {
        "id": "d0w45048eTDy",
        "colab_type": "code",
        "outputId": "34193b20-2001-43a3-b14d-e512a5046ef8",
        "colab": {
          "base_uri": "https://localhost:8080/",
          "height": 35
        }
      },
      "source": [
        "df1_val['label'].unique().tolist()"
      ],
      "execution_count": 8,
      "outputs": [
        {
          "output_type": "execute_result",
          "data": {
            "text/plain": [
              "['FAKE', 'REAL']"
            ]
          },
          "metadata": {
            "tags": []
          },
          "execution_count": 8
        }
      ]
    },
    {
      "cell_type": "code",
      "metadata": {
        "id": "rJJUMelTL1WS",
        "colab_type": "code",
        "outputId": "d620334d-944d-4a19-f868-4b3ada7693d0",
        "colab": {
          "base_uri": "https://localhost:8080/",
          "height": 54
        }
      },
      "source": [
        "print(sum(df2['fake']==0))\n",
        "print(sum(df2_val['label']=='REAL'))"
      ],
      "execution_count": 10,
      "outputs": [
        {
          "output_type": "stream",
          "text": [
            "2437\n",
            "2517\n"
          ],
          "name": "stdout"
        }
      ]
    },
    {
      "cell_type": "code",
      "metadata": {
        "id": "YtDE_El8Pfyf",
        "colab_type": "code",
        "colab": {}
      },
      "source": [
        "#ds=pd.read_excel('News Dataset.xlsx', nrows=49)\n",
        " \n",
        "x_aug =df2['news']\n",
        "x_aug_val = df2_val['title']\n",
        "#col_y = pd.DataFrame([1 for x in range(49)])\n",
        "y_aug =y\n",
        "y_aug_val = y_val"
      ],
      "execution_count": 0,
      "outputs": []
    },
    {
      "cell_type": "code",
      "metadata": {
        "id": "9cSgHnQBPir2",
        "colab_type": "code",
        "colab": {}
      },
      "source": [
        ""
      ],
      "execution_count": 0,
      "outputs": []
    },
    {
      "cell_type": "code",
      "metadata": {
        "id": "TMyuOTfnSQLv",
        "colab_type": "code",
        "outputId": "07ce8642-2454-4c47-ec18-bac0daa9fa1c",
        "colab": {
          "base_uri": "https://localhost:8080/",
          "height": 90
        }
      },
      "source": [
        "print(df2.shape)\n",
        "print(y.shape)\n",
        "print(df2_val.shape)\n",
        "print(y_val.shape)\n",
        "#print(y[0])"
      ],
      "execution_count": 12,
      "outputs": [
        {
          "output_type": "stream",
          "text": [
            "(2477, 3)\n",
            "(2477,)\n",
            "(5000, 4)\n",
            "(5000,)\n"
          ],
          "name": "stdout"
        }
      ]
    },
    {
      "cell_type": "code",
      "metadata": {
        "id": "9p7kQmEzQj1e",
        "colab_type": "code",
        "colab": {}
      },
      "source": [
        "X_train, X_test, y_train, y_test = train_test_split(x_aug, y_aug, test_size=0.25, random_state=42)"
      ],
      "execution_count": 0,
      "outputs": []
    },
    {
      "cell_type": "code",
      "metadata": {
        "id": "-RhX_YtnpVOj",
        "colab_type": "code",
        "outputId": "889152ce-2f34-4e9b-db50-63bd18ffe82d",
        "colab": {
          "base_uri": "https://localhost:8080/",
          "height": 126
        }
      },
      "source": [
        "X_train.head()"
      ],
      "execution_count": 14,
      "outputs": [
        {
          "output_type": "execute_result",
          "data": {
            "text/plain": [
              "1737    'Big Daddy' laps up Cipla after Q1 nos beat fo...\n",
              "3281     Kartarpur Corridor: In half-hearted attempt, ...\n",
              "3863     In Japan, the business of watching whales is ...\n",
              "4477     Pro-Balochistan activists disrupt Imran Khan'...\n",
              "2144     IMF approves $6 billion loan for cash-strappe...\n",
              "Name: news, dtype: object"
            ]
          },
          "metadata": {
            "tags": []
          },
          "execution_count": 14
        }
      ]
    },
    {
      "cell_type": "code",
      "metadata": {
        "id": "kFuKV3-5rmck",
        "colab_type": "code",
        "outputId": "0ef95c58-22db-48fc-9e5d-2fe9433f08d6",
        "colab": {
          "base_uri": "https://localhost:8080/",
          "height": 35
        }
      },
      "source": [
        "X_train.shape"
      ],
      "execution_count": 15,
      "outputs": [
        {
          "output_type": "execute_result",
          "data": {
            "text/plain": [
              "(1857,)"
            ]
          },
          "metadata": {
            "tags": []
          },
          "execution_count": 15
        }
      ]
    },
    {
      "cell_type": "code",
      "metadata": {
        "id": "xYXmqdm5rtzJ",
        "colab_type": "code",
        "outputId": "f89fee69-4299-4db6-cf3b-d797f0bd6629",
        "colab": {
          "base_uri": "https://localhost:8080/",
          "height": 126
        }
      },
      "source": [
        "y_train.head()"
      ],
      "execution_count": 16,
      "outputs": [
        {
          "output_type": "execute_result",
          "data": {
            "text/plain": [
              "1737    0\n",
              "3281    0\n",
              "3863    0\n",
              "4477    0\n",
              "2144    0\n",
              "Name: fake, dtype: int64"
            ]
          },
          "metadata": {
            "tags": []
          },
          "execution_count": 16
        }
      ]
    },
    {
      "cell_type": "code",
      "metadata": {
        "id": "j-EXSyGwr2YC",
        "colab_type": "code",
        "outputId": "4a614a24-4929-4f7f-feb8-fbbab2c1a918",
        "colab": {
          "base_uri": "https://localhost:8080/",
          "height": 35
        }
      },
      "source": [
        "y_train.shape"
      ],
      "execution_count": 17,
      "outputs": [
        {
          "output_type": "execute_result",
          "data": {
            "text/plain": [
              "(1857,)"
            ]
          },
          "metadata": {
            "tags": []
          },
          "execution_count": 17
        }
      ]
    },
    {
      "cell_type": "code",
      "metadata": {
        "id": "Wfe4EclMr5a2",
        "colab_type": "code",
        "colab": {}
      },
      "source": [
        "from sklearn.feature_extraction.text import TfidfVectorizer\n",
        "# Initialize the `tfidf_vectorizer` \n",
        "tfidf_vectorizer = TfidfVectorizer(stop_words='english', max_df=0.7) \n",
        "\n",
        "# Fit and transform the training data \n",
        "tfidf_train = tfidf_vectorizer.fit_transform(X_train) \n",
        "\n",
        "# Transform the test set \n",
        "tfidf_test = tfidf_vectorizer.transform(X_test)\n",
        "\n",
        "tfidf_validate = tfidf_vectorizer.transform(x_aug_val)"
      ],
      "execution_count": 0,
      "outputs": []
    },
    {
      "cell_type": "code",
      "metadata": {
        "id": "PaXNds9f3w3N",
        "colab_type": "code",
        "outputId": "84c8cc3e-ca41-473c-e558-f3be2b6ec408",
        "colab": {
          "base_uri": "https://localhost:8080/",
          "height": 35
        }
      },
      "source": [
        "print(tfidf_train.shape)"
      ],
      "execution_count": 19,
      "outputs": [
        {
          "output_type": "stream",
          "text": [
            "(1857, 7788)\n"
          ],
          "name": "stdout"
        }
      ]
    },
    {
      "cell_type": "code",
      "metadata": {
        "id": "E7Dkd6m24z-b",
        "colab_type": "code",
        "colab": {}
      },
      "source": [
        "from sklearn.feature_extraction.text import CountVectorizer\n",
        "# Initialize the `count_vectorizer` \n",
        "count_vectorizer = CountVectorizer(stop_words='english')\n",
        "\n",
        "# Fit and transform the training data \n",
        "count_train = count_vectorizer.fit_transform(X_train) \n",
        "\n",
        "# Transform the test set \n",
        "count_test = count_vectorizer.transform(X_test)\n",
        "\n",
        "count_validate = count_vectorizer.transform(x_aug_val)"
      ],
      "execution_count": 0,
      "outputs": []
    },
    {
      "cell_type": "code",
      "metadata": {
        "id": "T2ePM-cv6vgZ",
        "colab_type": "code",
        "outputId": "3b639bde-33c4-43d3-a45a-ee856785df3c",
        "colab": {
          "base_uri": "https://localhost:8080/",
          "height": 74
        }
      },
      "source": [
        "# Get the feature names of `tfidf_vectorizer` \n",
        "print(tfidf_vectorizer.get_feature_names()[-10:])\n",
        "\n",
        "# Get the feature names of `count_vectorizer` \n",
        "print(count_vectorizer.get_feature_names()[:10])"
      ],
      "execution_count": 21,
      "outputs": [
        {
          "output_type": "stream",
          "text": [
            "['zone', 'zoo', 'zpdqb', 'zq4vmb6lyuxzq3j50_bybfzti', 'zqdp1decxsqzqwmf3f9yhthjoi3xjjwg', 'ztgrisjaeespgmbngpxgg6newkmtn', 'zu4azo', 'zv1cgf4kmbql76abh2q', 'zyspbx0x9fiol4khoxtvvmifenu2cimc', 'zzjdhsfe']\n",
            "['00', '000', '001', '00r5ajnpxjwifn4kz_hizgew7b2e4iv3', '01', '02', '02t044543z_1216169853_', '02t162600z_1842575144_', '03', '03am']\n"
          ],
          "name": "stdout"
        }
      ]
    },
    {
      "cell_type": "code",
      "metadata": {
        "id": "StFjkviX70lt",
        "colab_type": "code",
        "outputId": "0255ee06-0d4b-4e56-a62f-3a3222d070b1",
        "colab": {
          "base_uri": "https://localhost:8080/",
          "height": 265
        }
      },
      "source": [
        "count_df = pd.DataFrame(count_train.A, columns=count_vectorizer.get_feature_names())\n",
        "tfidf_df = pd.DataFrame(tfidf_train.A, columns=tfidf_vectorizer.get_feature_names())\n",
        "difference = set(count_df.columns) - set(tfidf_df.columns)\n",
        "difference\n",
        "print(count_df.equals(tfidf_df))\n",
        "count_df.head()"
      ],
      "execution_count": 22,
      "outputs": [
        {
          "output_type": "stream",
          "text": [
            "False\n"
          ],
          "name": "stdout"
        },
        {
          "output_type": "execute_result",
          "data": {
            "text/html": [
              "<div>\n",
              "<style scoped>\n",
              "    .dataframe tbody tr th:only-of-type {\n",
              "        vertical-align: middle;\n",
              "    }\n",
              "\n",
              "    .dataframe tbody tr th {\n",
              "        vertical-align: top;\n",
              "    }\n",
              "\n",
              "    .dataframe thead th {\n",
              "        text-align: right;\n",
              "    }\n",
              "</style>\n",
              "<table border=\"1\" class=\"dataframe\">\n",
              "  <thead>\n",
              "    <tr style=\"text-align: right;\">\n",
              "      <th></th>\n",
              "      <th>00</th>\n",
              "      <th>000</th>\n",
              "      <th>001</th>\n",
              "      <th>00r5ajnpxjwifn4kz_hizgew7b2e4iv3</th>\n",
              "      <th>01</th>\n",
              "      <th>02</th>\n",
              "      <th>02t044543z_1216169853_</th>\n",
              "      <th>02t162600z_1842575144_</th>\n",
              "      <th>03</th>\n",
              "      <th>03am</th>\n",
              "      <th>04</th>\n",
              "      <th>04t095756z_1107249886__0</th>\n",
              "      <th>05</th>\n",
              "      <th>053</th>\n",
              "      <th>05t014353z_41458599_rc</th>\n",
              "      <th>06</th>\n",
              "      <th>07</th>\n",
              "      <th>08</th>\n",
              "      <th>09</th>\n",
              "      <th>0beevimpbcirlxxw0zx</th>\n",
              "      <th>0c_ivwajd3kqfvcf1qkmdyozlgj1zx8m</th>\n",
              "      <th>0ckyipwrtoadh5rk9ciakv3r_0avwu0q</th>\n",
              "      <th>0edoc9x</th>\n",
              "      <th>0et4gmolx</th>\n",
              "      <th>0jjo5qixmmdajlhaxtytvs3tsmghaa8b</th>\n",
              "      <th>0tlkd1x_bzd7bvdrzd</th>\n",
              "      <th>0tqxphipbj916f58livrxsqxrl3hxomd</th>\n",
              "      <th>0ut</th>\n",
              "      <th>10</th>\n",
              "      <th>100</th>\n",
              "      <th>1000</th>\n",
              "      <th>1000_1</th>\n",
              "      <th>1000_2</th>\n",
              "      <th>1000_3</th>\n",
              "      <th>1000__10_</th>\n",
              "      <th>1000__3_</th>\n",
              "      <th>1000__4_</th>\n",
              "      <th>1000__5_</th>\n",
              "      <th>1000__7_</th>\n",
              "      <th>11</th>\n",
              "      <th>...</th>\n",
              "      <th>youin</th>\n",
              "      <th>young</th>\n",
              "      <th>younger</th>\n",
              "      <th>youngsters</th>\n",
              "      <th>youth</th>\n",
              "      <th>yuvraj</th>\n",
              "      <th>yvadkdy2yt4awoo9rwmuqv0dsalf1y6x</th>\n",
              "      <th>yvbkqs80inbltia6ofrahulmrwhp1tle</th>\n",
              "      <th>yxqls9izqrufx40</th>\n",
              "      <th>yz24yui5</th>\n",
              "      <th>yz8r7ze6qiawnke9a7kwm83dkd2espe_</th>\n",
              "      <th>yzsd84umdpqo_xqk6u6szjjiaimllq8a</th>\n",
              "      <th>z6vi3an3nxhwco42fxybd3appyxvfxjz</th>\n",
              "      <th>z6zl</th>\n",
              "      <th>z8qlqycbymsv04stuvo_sntvcswkefkf</th>\n",
              "      <th>zahr</th>\n",
              "      <th>zara</th>\n",
              "      <th>zardari</th>\n",
              "      <th>zd6wwiycswef7jn</th>\n",
              "      <th>zealand</th>\n",
              "      <th>zemxaiqo8gq8ftbt4rzxokor5fgwh</th>\n",
              "      <th>zenfdegii</th>\n",
              "      <th>zero</th>\n",
              "      <th>zhzdhdz</th>\n",
              "      <th>zio5i</th>\n",
              "      <th>zjoclca8rmiqb_g3fg46fh8nhknuruc</th>\n",
              "      <th>zjx</th>\n",
              "      <th>zne5t7trrgxeheucepn</th>\n",
              "      <th>zoella</th>\n",
              "      <th>zoetis</th>\n",
              "      <th>zone</th>\n",
              "      <th>zoo</th>\n",
              "      <th>zpdqb</th>\n",
              "      <th>zq4vmb6lyuxzq3j50_bybfzti</th>\n",
              "      <th>zqdp1decxsqzqwmf3f9yhthjoi3xjjwg</th>\n",
              "      <th>ztgrisjaeespgmbngpxgg6newkmtn</th>\n",
              "      <th>zu4azo</th>\n",
              "      <th>zv1cgf4kmbql76abh2q</th>\n",
              "      <th>zyspbx0x9fiol4khoxtvvmifenu2cimc</th>\n",
              "      <th>zzjdhsfe</th>\n",
              "    </tr>\n",
              "  </thead>\n",
              "  <tbody>\n",
              "    <tr>\n",
              "      <th>0</th>\n",
              "      <td>0</td>\n",
              "      <td>0</td>\n",
              "      <td>0</td>\n",
              "      <td>0</td>\n",
              "      <td>0</td>\n",
              "      <td>0</td>\n",
              "      <td>0</td>\n",
              "      <td>0</td>\n",
              "      <td>0</td>\n",
              "      <td>0</td>\n",
              "      <td>0</td>\n",
              "      <td>0</td>\n",
              "      <td>0</td>\n",
              "      <td>0</td>\n",
              "      <td>0</td>\n",
              "      <td>0</td>\n",
              "      <td>0</td>\n",
              "      <td>0</td>\n",
              "      <td>0</td>\n",
              "      <td>0</td>\n",
              "      <td>0</td>\n",
              "      <td>0</td>\n",
              "      <td>0</td>\n",
              "      <td>0</td>\n",
              "      <td>0</td>\n",
              "      <td>0</td>\n",
              "      <td>0</td>\n",
              "      <td>0</td>\n",
              "      <td>0</td>\n",
              "      <td>0</td>\n",
              "      <td>0</td>\n",
              "      <td>0</td>\n",
              "      <td>0</td>\n",
              "      <td>0</td>\n",
              "      <td>0</td>\n",
              "      <td>0</td>\n",
              "      <td>0</td>\n",
              "      <td>0</td>\n",
              "      <td>0</td>\n",
              "      <td>0</td>\n",
              "      <td>...</td>\n",
              "      <td>0</td>\n",
              "      <td>0</td>\n",
              "      <td>0</td>\n",
              "      <td>0</td>\n",
              "      <td>0</td>\n",
              "      <td>0</td>\n",
              "      <td>0</td>\n",
              "      <td>0</td>\n",
              "      <td>0</td>\n",
              "      <td>0</td>\n",
              "      <td>0</td>\n",
              "      <td>0</td>\n",
              "      <td>0</td>\n",
              "      <td>0</td>\n",
              "      <td>0</td>\n",
              "      <td>0</td>\n",
              "      <td>0</td>\n",
              "      <td>0</td>\n",
              "      <td>0</td>\n",
              "      <td>0</td>\n",
              "      <td>0</td>\n",
              "      <td>0</td>\n",
              "      <td>0</td>\n",
              "      <td>0</td>\n",
              "      <td>0</td>\n",
              "      <td>0</td>\n",
              "      <td>0</td>\n",
              "      <td>0</td>\n",
              "      <td>0</td>\n",
              "      <td>0</td>\n",
              "      <td>0</td>\n",
              "      <td>0</td>\n",
              "      <td>0</td>\n",
              "      <td>0</td>\n",
              "      <td>0</td>\n",
              "      <td>0</td>\n",
              "      <td>0</td>\n",
              "      <td>0</td>\n",
              "      <td>0</td>\n",
              "      <td>0</td>\n",
              "    </tr>\n",
              "    <tr>\n",
              "      <th>1</th>\n",
              "      <td>0</td>\n",
              "      <td>0</td>\n",
              "      <td>0</td>\n",
              "      <td>0</td>\n",
              "      <td>0</td>\n",
              "      <td>0</td>\n",
              "      <td>0</td>\n",
              "      <td>0</td>\n",
              "      <td>0</td>\n",
              "      <td>0</td>\n",
              "      <td>0</td>\n",
              "      <td>0</td>\n",
              "      <td>0</td>\n",
              "      <td>0</td>\n",
              "      <td>0</td>\n",
              "      <td>0</td>\n",
              "      <td>1</td>\n",
              "      <td>0</td>\n",
              "      <td>0</td>\n",
              "      <td>0</td>\n",
              "      <td>0</td>\n",
              "      <td>0</td>\n",
              "      <td>0</td>\n",
              "      <td>0</td>\n",
              "      <td>0</td>\n",
              "      <td>0</td>\n",
              "      <td>0</td>\n",
              "      <td>0</td>\n",
              "      <td>0</td>\n",
              "      <td>0</td>\n",
              "      <td>0</td>\n",
              "      <td>0</td>\n",
              "      <td>0</td>\n",
              "      <td>0</td>\n",
              "      <td>0</td>\n",
              "      <td>0</td>\n",
              "      <td>0</td>\n",
              "      <td>0</td>\n",
              "      <td>0</td>\n",
              "      <td>0</td>\n",
              "      <td>...</td>\n",
              "      <td>0</td>\n",
              "      <td>0</td>\n",
              "      <td>0</td>\n",
              "      <td>0</td>\n",
              "      <td>0</td>\n",
              "      <td>0</td>\n",
              "      <td>0</td>\n",
              "      <td>0</td>\n",
              "      <td>0</td>\n",
              "      <td>0</td>\n",
              "      <td>0</td>\n",
              "      <td>0</td>\n",
              "      <td>0</td>\n",
              "      <td>0</td>\n",
              "      <td>0</td>\n",
              "      <td>0</td>\n",
              "      <td>0</td>\n",
              "      <td>0</td>\n",
              "      <td>0</td>\n",
              "      <td>0</td>\n",
              "      <td>0</td>\n",
              "      <td>0</td>\n",
              "      <td>0</td>\n",
              "      <td>0</td>\n",
              "      <td>0</td>\n",
              "      <td>0</td>\n",
              "      <td>0</td>\n",
              "      <td>0</td>\n",
              "      <td>0</td>\n",
              "      <td>0</td>\n",
              "      <td>0</td>\n",
              "      <td>0</td>\n",
              "      <td>0</td>\n",
              "      <td>0</td>\n",
              "      <td>0</td>\n",
              "      <td>0</td>\n",
              "      <td>0</td>\n",
              "      <td>0</td>\n",
              "      <td>0</td>\n",
              "      <td>0</td>\n",
              "    </tr>\n",
              "    <tr>\n",
              "      <th>2</th>\n",
              "      <td>0</td>\n",
              "      <td>0</td>\n",
              "      <td>0</td>\n",
              "      <td>0</td>\n",
              "      <td>0</td>\n",
              "      <td>0</td>\n",
              "      <td>0</td>\n",
              "      <td>0</td>\n",
              "      <td>0</td>\n",
              "      <td>0</td>\n",
              "      <td>0</td>\n",
              "      <td>0</td>\n",
              "      <td>0</td>\n",
              "      <td>0</td>\n",
              "      <td>0</td>\n",
              "      <td>0</td>\n",
              "      <td>1</td>\n",
              "      <td>0</td>\n",
              "      <td>1</td>\n",
              "      <td>0</td>\n",
              "      <td>0</td>\n",
              "      <td>0</td>\n",
              "      <td>0</td>\n",
              "      <td>0</td>\n",
              "      <td>0</td>\n",
              "      <td>0</td>\n",
              "      <td>0</td>\n",
              "      <td>0</td>\n",
              "      <td>0</td>\n",
              "      <td>0</td>\n",
              "      <td>0</td>\n",
              "      <td>0</td>\n",
              "      <td>0</td>\n",
              "      <td>0</td>\n",
              "      <td>0</td>\n",
              "      <td>0</td>\n",
              "      <td>0</td>\n",
              "      <td>0</td>\n",
              "      <td>0</td>\n",
              "      <td>0</td>\n",
              "      <td>...</td>\n",
              "      <td>0</td>\n",
              "      <td>0</td>\n",
              "      <td>0</td>\n",
              "      <td>0</td>\n",
              "      <td>0</td>\n",
              "      <td>0</td>\n",
              "      <td>0</td>\n",
              "      <td>0</td>\n",
              "      <td>0</td>\n",
              "      <td>0</td>\n",
              "      <td>0</td>\n",
              "      <td>0</td>\n",
              "      <td>0</td>\n",
              "      <td>0</td>\n",
              "      <td>0</td>\n",
              "      <td>0</td>\n",
              "      <td>0</td>\n",
              "      <td>0</td>\n",
              "      <td>0</td>\n",
              "      <td>0</td>\n",
              "      <td>0</td>\n",
              "      <td>0</td>\n",
              "      <td>0</td>\n",
              "      <td>0</td>\n",
              "      <td>0</td>\n",
              "      <td>0</td>\n",
              "      <td>0</td>\n",
              "      <td>0</td>\n",
              "      <td>0</td>\n",
              "      <td>0</td>\n",
              "      <td>0</td>\n",
              "      <td>0</td>\n",
              "      <td>0</td>\n",
              "      <td>0</td>\n",
              "      <td>0</td>\n",
              "      <td>0</td>\n",
              "      <td>0</td>\n",
              "      <td>0</td>\n",
              "      <td>0</td>\n",
              "      <td>0</td>\n",
              "    </tr>\n",
              "    <tr>\n",
              "      <th>3</th>\n",
              "      <td>0</td>\n",
              "      <td>0</td>\n",
              "      <td>0</td>\n",
              "      <td>0</td>\n",
              "      <td>0</td>\n",
              "      <td>0</td>\n",
              "      <td>0</td>\n",
              "      <td>0</td>\n",
              "      <td>0</td>\n",
              "      <td>0</td>\n",
              "      <td>0</td>\n",
              "      <td>0</td>\n",
              "      <td>0</td>\n",
              "      <td>0</td>\n",
              "      <td>0</td>\n",
              "      <td>0</td>\n",
              "      <td>1</td>\n",
              "      <td>0</td>\n",
              "      <td>0</td>\n",
              "      <td>0</td>\n",
              "      <td>0</td>\n",
              "      <td>0</td>\n",
              "      <td>0</td>\n",
              "      <td>0</td>\n",
              "      <td>0</td>\n",
              "      <td>0</td>\n",
              "      <td>0</td>\n",
              "      <td>0</td>\n",
              "      <td>0</td>\n",
              "      <td>0</td>\n",
              "      <td>0</td>\n",
              "      <td>0</td>\n",
              "      <td>0</td>\n",
              "      <td>0</td>\n",
              "      <td>0</td>\n",
              "      <td>0</td>\n",
              "      <td>0</td>\n",
              "      <td>0</td>\n",
              "      <td>0</td>\n",
              "      <td>0</td>\n",
              "      <td>...</td>\n",
              "      <td>0</td>\n",
              "      <td>0</td>\n",
              "      <td>0</td>\n",
              "      <td>0</td>\n",
              "      <td>0</td>\n",
              "      <td>0</td>\n",
              "      <td>0</td>\n",
              "      <td>0</td>\n",
              "      <td>0</td>\n",
              "      <td>0</td>\n",
              "      <td>0</td>\n",
              "      <td>0</td>\n",
              "      <td>0</td>\n",
              "      <td>0</td>\n",
              "      <td>0</td>\n",
              "      <td>0</td>\n",
              "      <td>0</td>\n",
              "      <td>0</td>\n",
              "      <td>0</td>\n",
              "      <td>0</td>\n",
              "      <td>0</td>\n",
              "      <td>0</td>\n",
              "      <td>0</td>\n",
              "      <td>0</td>\n",
              "      <td>0</td>\n",
              "      <td>0</td>\n",
              "      <td>0</td>\n",
              "      <td>0</td>\n",
              "      <td>0</td>\n",
              "      <td>0</td>\n",
              "      <td>0</td>\n",
              "      <td>0</td>\n",
              "      <td>0</td>\n",
              "      <td>0</td>\n",
              "      <td>0</td>\n",
              "      <td>0</td>\n",
              "      <td>0</td>\n",
              "      <td>0</td>\n",
              "      <td>0</td>\n",
              "      <td>0</td>\n",
              "    </tr>\n",
              "    <tr>\n",
              "      <th>4</th>\n",
              "      <td>0</td>\n",
              "      <td>0</td>\n",
              "      <td>0</td>\n",
              "      <td>0</td>\n",
              "      <td>0</td>\n",
              "      <td>0</td>\n",
              "      <td>0</td>\n",
              "      <td>0</td>\n",
              "      <td>0</td>\n",
              "      <td>0</td>\n",
              "      <td>1</td>\n",
              "      <td>0</td>\n",
              "      <td>0</td>\n",
              "      <td>0</td>\n",
              "      <td>0</td>\n",
              "      <td>0</td>\n",
              "      <td>1</td>\n",
              "      <td>0</td>\n",
              "      <td>0</td>\n",
              "      <td>0</td>\n",
              "      <td>0</td>\n",
              "      <td>0</td>\n",
              "      <td>0</td>\n",
              "      <td>0</td>\n",
              "      <td>0</td>\n",
              "      <td>0</td>\n",
              "      <td>0</td>\n",
              "      <td>0</td>\n",
              "      <td>0</td>\n",
              "      <td>0</td>\n",
              "      <td>0</td>\n",
              "      <td>0</td>\n",
              "      <td>0</td>\n",
              "      <td>0</td>\n",
              "      <td>0</td>\n",
              "      <td>0</td>\n",
              "      <td>0</td>\n",
              "      <td>0</td>\n",
              "      <td>0</td>\n",
              "      <td>0</td>\n",
              "      <td>...</td>\n",
              "      <td>0</td>\n",
              "      <td>0</td>\n",
              "      <td>0</td>\n",
              "      <td>0</td>\n",
              "      <td>0</td>\n",
              "      <td>0</td>\n",
              "      <td>0</td>\n",
              "      <td>0</td>\n",
              "      <td>0</td>\n",
              "      <td>0</td>\n",
              "      <td>0</td>\n",
              "      <td>0</td>\n",
              "      <td>0</td>\n",
              "      <td>0</td>\n",
              "      <td>0</td>\n",
              "      <td>0</td>\n",
              "      <td>0</td>\n",
              "      <td>0</td>\n",
              "      <td>0</td>\n",
              "      <td>0</td>\n",
              "      <td>0</td>\n",
              "      <td>0</td>\n",
              "      <td>0</td>\n",
              "      <td>0</td>\n",
              "      <td>0</td>\n",
              "      <td>0</td>\n",
              "      <td>0</td>\n",
              "      <td>0</td>\n",
              "      <td>0</td>\n",
              "      <td>0</td>\n",
              "      <td>0</td>\n",
              "      <td>0</td>\n",
              "      <td>0</td>\n",
              "      <td>0</td>\n",
              "      <td>0</td>\n",
              "      <td>0</td>\n",
              "      <td>0</td>\n",
              "      <td>0</td>\n",
              "      <td>0</td>\n",
              "      <td>0</td>\n",
              "    </tr>\n",
              "  </tbody>\n",
              "</table>\n",
              "<p>5 rows × 7788 columns</p>\n",
              "</div>"
            ],
            "text/plain": [
              "   00  000  ...  zyspbx0x9fiol4khoxtvvmifenu2cimc  zzjdhsfe\n",
              "0   0    0  ...                                 0         0\n",
              "1   0    0  ...                                 0         0\n",
              "2   0    0  ...                                 0         0\n",
              "3   0    0  ...                                 0         0\n",
              "4   0    0  ...                                 0         0\n",
              "\n",
              "[5 rows x 7788 columns]"
            ]
          },
          "metadata": {
            "tags": []
          },
          "execution_count": 22
        }
      ]
    },
    {
      "cell_type": "code",
      "metadata": {
        "id": "LWEadHct8dBs",
        "colab_type": "code",
        "outputId": "b27eda1d-c6df-4aed-c5a4-33d4265efef5",
        "colab": {
          "base_uri": "https://localhost:8080/",
          "height": 247
        }
      },
      "source": [
        "tfidf_df.head()"
      ],
      "execution_count": 23,
      "outputs": [
        {
          "output_type": "execute_result",
          "data": {
            "text/html": [
              "<div>\n",
              "<style scoped>\n",
              "    .dataframe tbody tr th:only-of-type {\n",
              "        vertical-align: middle;\n",
              "    }\n",
              "\n",
              "    .dataframe tbody tr th {\n",
              "        vertical-align: top;\n",
              "    }\n",
              "\n",
              "    .dataframe thead th {\n",
              "        text-align: right;\n",
              "    }\n",
              "</style>\n",
              "<table border=\"1\" class=\"dataframe\">\n",
              "  <thead>\n",
              "    <tr style=\"text-align: right;\">\n",
              "      <th></th>\n",
              "      <th>00</th>\n",
              "      <th>000</th>\n",
              "      <th>001</th>\n",
              "      <th>00r5ajnpxjwifn4kz_hizgew7b2e4iv3</th>\n",
              "      <th>01</th>\n",
              "      <th>02</th>\n",
              "      <th>02t044543z_1216169853_</th>\n",
              "      <th>02t162600z_1842575144_</th>\n",
              "      <th>03</th>\n",
              "      <th>03am</th>\n",
              "      <th>04</th>\n",
              "      <th>04t095756z_1107249886__0</th>\n",
              "      <th>05</th>\n",
              "      <th>053</th>\n",
              "      <th>05t014353z_41458599_rc</th>\n",
              "      <th>06</th>\n",
              "      <th>07</th>\n",
              "      <th>08</th>\n",
              "      <th>09</th>\n",
              "      <th>0beevimpbcirlxxw0zx</th>\n",
              "      <th>0c_ivwajd3kqfvcf1qkmdyozlgj1zx8m</th>\n",
              "      <th>0ckyipwrtoadh5rk9ciakv3r_0avwu0q</th>\n",
              "      <th>0edoc9x</th>\n",
              "      <th>0et4gmolx</th>\n",
              "      <th>0jjo5qixmmdajlhaxtytvs3tsmghaa8b</th>\n",
              "      <th>0tlkd1x_bzd7bvdrzd</th>\n",
              "      <th>0tqxphipbj916f58livrxsqxrl3hxomd</th>\n",
              "      <th>0ut</th>\n",
              "      <th>10</th>\n",
              "      <th>100</th>\n",
              "      <th>1000</th>\n",
              "      <th>1000_1</th>\n",
              "      <th>1000_2</th>\n",
              "      <th>1000_3</th>\n",
              "      <th>1000__10_</th>\n",
              "      <th>1000__3_</th>\n",
              "      <th>1000__4_</th>\n",
              "      <th>1000__5_</th>\n",
              "      <th>1000__7_</th>\n",
              "      <th>11</th>\n",
              "      <th>...</th>\n",
              "      <th>youin</th>\n",
              "      <th>young</th>\n",
              "      <th>younger</th>\n",
              "      <th>youngsters</th>\n",
              "      <th>youth</th>\n",
              "      <th>yuvraj</th>\n",
              "      <th>yvadkdy2yt4awoo9rwmuqv0dsalf1y6x</th>\n",
              "      <th>yvbkqs80inbltia6ofrahulmrwhp1tle</th>\n",
              "      <th>yxqls9izqrufx40</th>\n",
              "      <th>yz24yui5</th>\n",
              "      <th>yz8r7ze6qiawnke9a7kwm83dkd2espe_</th>\n",
              "      <th>yzsd84umdpqo_xqk6u6szjjiaimllq8a</th>\n",
              "      <th>z6vi3an3nxhwco42fxybd3appyxvfxjz</th>\n",
              "      <th>z6zl</th>\n",
              "      <th>z8qlqycbymsv04stuvo_sntvcswkefkf</th>\n",
              "      <th>zahr</th>\n",
              "      <th>zara</th>\n",
              "      <th>zardari</th>\n",
              "      <th>zd6wwiycswef7jn</th>\n",
              "      <th>zealand</th>\n",
              "      <th>zemxaiqo8gq8ftbt4rzxokor5fgwh</th>\n",
              "      <th>zenfdegii</th>\n",
              "      <th>zero</th>\n",
              "      <th>zhzdhdz</th>\n",
              "      <th>zio5i</th>\n",
              "      <th>zjoclca8rmiqb_g3fg46fh8nhknuruc</th>\n",
              "      <th>zjx</th>\n",
              "      <th>zne5t7trrgxeheucepn</th>\n",
              "      <th>zoella</th>\n",
              "      <th>zoetis</th>\n",
              "      <th>zone</th>\n",
              "      <th>zoo</th>\n",
              "      <th>zpdqb</th>\n",
              "      <th>zq4vmb6lyuxzq3j50_bybfzti</th>\n",
              "      <th>zqdp1decxsqzqwmf3f9yhthjoi3xjjwg</th>\n",
              "      <th>ztgrisjaeespgmbngpxgg6newkmtn</th>\n",
              "      <th>zu4azo</th>\n",
              "      <th>zv1cgf4kmbql76abh2q</th>\n",
              "      <th>zyspbx0x9fiol4khoxtvvmifenu2cimc</th>\n",
              "      <th>zzjdhsfe</th>\n",
              "    </tr>\n",
              "  </thead>\n",
              "  <tbody>\n",
              "    <tr>\n",
              "      <th>0</th>\n",
              "      <td>0.0</td>\n",
              "      <td>0.0</td>\n",
              "      <td>0.0</td>\n",
              "      <td>0.0</td>\n",
              "      <td>0.0</td>\n",
              "      <td>0.0</td>\n",
              "      <td>0.0</td>\n",
              "      <td>0.0</td>\n",
              "      <td>0.0</td>\n",
              "      <td>0.0</td>\n",
              "      <td>0.000000</td>\n",
              "      <td>0.0</td>\n",
              "      <td>0.0</td>\n",
              "      <td>0.0</td>\n",
              "      <td>0.0</td>\n",
              "      <td>0.0</td>\n",
              "      <td>0.000000</td>\n",
              "      <td>0.0</td>\n",
              "      <td>0.000000</td>\n",
              "      <td>0.0</td>\n",
              "      <td>0.0</td>\n",
              "      <td>0.0</td>\n",
              "      <td>0.0</td>\n",
              "      <td>0.0</td>\n",
              "      <td>0.0</td>\n",
              "      <td>0.0</td>\n",
              "      <td>0.0</td>\n",
              "      <td>0.0</td>\n",
              "      <td>0.0</td>\n",
              "      <td>0.0</td>\n",
              "      <td>0.0</td>\n",
              "      <td>0.0</td>\n",
              "      <td>0.0</td>\n",
              "      <td>0.0</td>\n",
              "      <td>0.0</td>\n",
              "      <td>0.0</td>\n",
              "      <td>0.0</td>\n",
              "      <td>0.0</td>\n",
              "      <td>0.0</td>\n",
              "      <td>0.0</td>\n",
              "      <td>...</td>\n",
              "      <td>0.0</td>\n",
              "      <td>0.0</td>\n",
              "      <td>0.0</td>\n",
              "      <td>0.0</td>\n",
              "      <td>0.0</td>\n",
              "      <td>0.0</td>\n",
              "      <td>0.0</td>\n",
              "      <td>0.0</td>\n",
              "      <td>0.0</td>\n",
              "      <td>0.0</td>\n",
              "      <td>0.0</td>\n",
              "      <td>0.0</td>\n",
              "      <td>0.0</td>\n",
              "      <td>0.0</td>\n",
              "      <td>0.0</td>\n",
              "      <td>0.0</td>\n",
              "      <td>0.0</td>\n",
              "      <td>0.0</td>\n",
              "      <td>0.0</td>\n",
              "      <td>0.0</td>\n",
              "      <td>0.0</td>\n",
              "      <td>0.0</td>\n",
              "      <td>0.0</td>\n",
              "      <td>0.0</td>\n",
              "      <td>0.0</td>\n",
              "      <td>0.0</td>\n",
              "      <td>0.0</td>\n",
              "      <td>0.0</td>\n",
              "      <td>0.0</td>\n",
              "      <td>0.0</td>\n",
              "      <td>0.0</td>\n",
              "      <td>0.0</td>\n",
              "      <td>0.0</td>\n",
              "      <td>0.0</td>\n",
              "      <td>0.0</td>\n",
              "      <td>0.0</td>\n",
              "      <td>0.0</td>\n",
              "      <td>0.0</td>\n",
              "      <td>0.0</td>\n",
              "      <td>0.0</td>\n",
              "    </tr>\n",
              "    <tr>\n",
              "      <th>1</th>\n",
              "      <td>0.0</td>\n",
              "      <td>0.0</td>\n",
              "      <td>0.0</td>\n",
              "      <td>0.0</td>\n",
              "      <td>0.0</td>\n",
              "      <td>0.0</td>\n",
              "      <td>0.0</td>\n",
              "      <td>0.0</td>\n",
              "      <td>0.0</td>\n",
              "      <td>0.0</td>\n",
              "      <td>0.000000</td>\n",
              "      <td>0.0</td>\n",
              "      <td>0.0</td>\n",
              "      <td>0.0</td>\n",
              "      <td>0.0</td>\n",
              "      <td>0.0</td>\n",
              "      <td>0.031340</td>\n",
              "      <td>0.0</td>\n",
              "      <td>0.000000</td>\n",
              "      <td>0.0</td>\n",
              "      <td>0.0</td>\n",
              "      <td>0.0</td>\n",
              "      <td>0.0</td>\n",
              "      <td>0.0</td>\n",
              "      <td>0.0</td>\n",
              "      <td>0.0</td>\n",
              "      <td>0.0</td>\n",
              "      <td>0.0</td>\n",
              "      <td>0.0</td>\n",
              "      <td>0.0</td>\n",
              "      <td>0.0</td>\n",
              "      <td>0.0</td>\n",
              "      <td>0.0</td>\n",
              "      <td>0.0</td>\n",
              "      <td>0.0</td>\n",
              "      <td>0.0</td>\n",
              "      <td>0.0</td>\n",
              "      <td>0.0</td>\n",
              "      <td>0.0</td>\n",
              "      <td>0.0</td>\n",
              "      <td>...</td>\n",
              "      <td>0.0</td>\n",
              "      <td>0.0</td>\n",
              "      <td>0.0</td>\n",
              "      <td>0.0</td>\n",
              "      <td>0.0</td>\n",
              "      <td>0.0</td>\n",
              "      <td>0.0</td>\n",
              "      <td>0.0</td>\n",
              "      <td>0.0</td>\n",
              "      <td>0.0</td>\n",
              "      <td>0.0</td>\n",
              "      <td>0.0</td>\n",
              "      <td>0.0</td>\n",
              "      <td>0.0</td>\n",
              "      <td>0.0</td>\n",
              "      <td>0.0</td>\n",
              "      <td>0.0</td>\n",
              "      <td>0.0</td>\n",
              "      <td>0.0</td>\n",
              "      <td>0.0</td>\n",
              "      <td>0.0</td>\n",
              "      <td>0.0</td>\n",
              "      <td>0.0</td>\n",
              "      <td>0.0</td>\n",
              "      <td>0.0</td>\n",
              "      <td>0.0</td>\n",
              "      <td>0.0</td>\n",
              "      <td>0.0</td>\n",
              "      <td>0.0</td>\n",
              "      <td>0.0</td>\n",
              "      <td>0.0</td>\n",
              "      <td>0.0</td>\n",
              "      <td>0.0</td>\n",
              "      <td>0.0</td>\n",
              "      <td>0.0</td>\n",
              "      <td>0.0</td>\n",
              "      <td>0.0</td>\n",
              "      <td>0.0</td>\n",
              "      <td>0.0</td>\n",
              "      <td>0.0</td>\n",
              "    </tr>\n",
              "    <tr>\n",
              "      <th>2</th>\n",
              "      <td>0.0</td>\n",
              "      <td>0.0</td>\n",
              "      <td>0.0</td>\n",
              "      <td>0.0</td>\n",
              "      <td>0.0</td>\n",
              "      <td>0.0</td>\n",
              "      <td>0.0</td>\n",
              "      <td>0.0</td>\n",
              "      <td>0.0</td>\n",
              "      <td>0.0</td>\n",
              "      <td>0.000000</td>\n",
              "      <td>0.0</td>\n",
              "      <td>0.0</td>\n",
              "      <td>0.0</td>\n",
              "      <td>0.0</td>\n",
              "      <td>0.0</td>\n",
              "      <td>0.036066</td>\n",
              "      <td>0.0</td>\n",
              "      <td>0.099959</td>\n",
              "      <td>0.0</td>\n",
              "      <td>0.0</td>\n",
              "      <td>0.0</td>\n",
              "      <td>0.0</td>\n",
              "      <td>0.0</td>\n",
              "      <td>0.0</td>\n",
              "      <td>0.0</td>\n",
              "      <td>0.0</td>\n",
              "      <td>0.0</td>\n",
              "      <td>0.0</td>\n",
              "      <td>0.0</td>\n",
              "      <td>0.0</td>\n",
              "      <td>0.0</td>\n",
              "      <td>0.0</td>\n",
              "      <td>0.0</td>\n",
              "      <td>0.0</td>\n",
              "      <td>0.0</td>\n",
              "      <td>0.0</td>\n",
              "      <td>0.0</td>\n",
              "      <td>0.0</td>\n",
              "      <td>0.0</td>\n",
              "      <td>...</td>\n",
              "      <td>0.0</td>\n",
              "      <td>0.0</td>\n",
              "      <td>0.0</td>\n",
              "      <td>0.0</td>\n",
              "      <td>0.0</td>\n",
              "      <td>0.0</td>\n",
              "      <td>0.0</td>\n",
              "      <td>0.0</td>\n",
              "      <td>0.0</td>\n",
              "      <td>0.0</td>\n",
              "      <td>0.0</td>\n",
              "      <td>0.0</td>\n",
              "      <td>0.0</td>\n",
              "      <td>0.0</td>\n",
              "      <td>0.0</td>\n",
              "      <td>0.0</td>\n",
              "      <td>0.0</td>\n",
              "      <td>0.0</td>\n",
              "      <td>0.0</td>\n",
              "      <td>0.0</td>\n",
              "      <td>0.0</td>\n",
              "      <td>0.0</td>\n",
              "      <td>0.0</td>\n",
              "      <td>0.0</td>\n",
              "      <td>0.0</td>\n",
              "      <td>0.0</td>\n",
              "      <td>0.0</td>\n",
              "      <td>0.0</td>\n",
              "      <td>0.0</td>\n",
              "      <td>0.0</td>\n",
              "      <td>0.0</td>\n",
              "      <td>0.0</td>\n",
              "      <td>0.0</td>\n",
              "      <td>0.0</td>\n",
              "      <td>0.0</td>\n",
              "      <td>0.0</td>\n",
              "      <td>0.0</td>\n",
              "      <td>0.0</td>\n",
              "      <td>0.0</td>\n",
              "      <td>0.0</td>\n",
              "    </tr>\n",
              "    <tr>\n",
              "      <th>3</th>\n",
              "      <td>0.0</td>\n",
              "      <td>0.0</td>\n",
              "      <td>0.0</td>\n",
              "      <td>0.0</td>\n",
              "      <td>0.0</td>\n",
              "      <td>0.0</td>\n",
              "      <td>0.0</td>\n",
              "      <td>0.0</td>\n",
              "      <td>0.0</td>\n",
              "      <td>0.0</td>\n",
              "      <td>0.000000</td>\n",
              "      <td>0.0</td>\n",
              "      <td>0.0</td>\n",
              "      <td>0.0</td>\n",
              "      <td>0.0</td>\n",
              "      <td>0.0</td>\n",
              "      <td>0.033722</td>\n",
              "      <td>0.0</td>\n",
              "      <td>0.000000</td>\n",
              "      <td>0.0</td>\n",
              "      <td>0.0</td>\n",
              "      <td>0.0</td>\n",
              "      <td>0.0</td>\n",
              "      <td>0.0</td>\n",
              "      <td>0.0</td>\n",
              "      <td>0.0</td>\n",
              "      <td>0.0</td>\n",
              "      <td>0.0</td>\n",
              "      <td>0.0</td>\n",
              "      <td>0.0</td>\n",
              "      <td>0.0</td>\n",
              "      <td>0.0</td>\n",
              "      <td>0.0</td>\n",
              "      <td>0.0</td>\n",
              "      <td>0.0</td>\n",
              "      <td>0.0</td>\n",
              "      <td>0.0</td>\n",
              "      <td>0.0</td>\n",
              "      <td>0.0</td>\n",
              "      <td>0.0</td>\n",
              "      <td>...</td>\n",
              "      <td>0.0</td>\n",
              "      <td>0.0</td>\n",
              "      <td>0.0</td>\n",
              "      <td>0.0</td>\n",
              "      <td>0.0</td>\n",
              "      <td>0.0</td>\n",
              "      <td>0.0</td>\n",
              "      <td>0.0</td>\n",
              "      <td>0.0</td>\n",
              "      <td>0.0</td>\n",
              "      <td>0.0</td>\n",
              "      <td>0.0</td>\n",
              "      <td>0.0</td>\n",
              "      <td>0.0</td>\n",
              "      <td>0.0</td>\n",
              "      <td>0.0</td>\n",
              "      <td>0.0</td>\n",
              "      <td>0.0</td>\n",
              "      <td>0.0</td>\n",
              "      <td>0.0</td>\n",
              "      <td>0.0</td>\n",
              "      <td>0.0</td>\n",
              "      <td>0.0</td>\n",
              "      <td>0.0</td>\n",
              "      <td>0.0</td>\n",
              "      <td>0.0</td>\n",
              "      <td>0.0</td>\n",
              "      <td>0.0</td>\n",
              "      <td>0.0</td>\n",
              "      <td>0.0</td>\n",
              "      <td>0.0</td>\n",
              "      <td>0.0</td>\n",
              "      <td>0.0</td>\n",
              "      <td>0.0</td>\n",
              "      <td>0.0</td>\n",
              "      <td>0.0</td>\n",
              "      <td>0.0</td>\n",
              "      <td>0.0</td>\n",
              "      <td>0.0</td>\n",
              "      <td>0.0</td>\n",
              "    </tr>\n",
              "    <tr>\n",
              "      <th>4</th>\n",
              "      <td>0.0</td>\n",
              "      <td>0.0</td>\n",
              "      <td>0.0</td>\n",
              "      <td>0.0</td>\n",
              "      <td>0.0</td>\n",
              "      <td>0.0</td>\n",
              "      <td>0.0</td>\n",
              "      <td>0.0</td>\n",
              "      <td>0.0</td>\n",
              "      <td>0.0</td>\n",
              "      <td>0.083165</td>\n",
              "      <td>0.0</td>\n",
              "      <td>0.0</td>\n",
              "      <td>0.0</td>\n",
              "      <td>0.0</td>\n",
              "      <td>0.0</td>\n",
              "      <td>0.028988</td>\n",
              "      <td>0.0</td>\n",
              "      <td>0.000000</td>\n",
              "      <td>0.0</td>\n",
              "      <td>0.0</td>\n",
              "      <td>0.0</td>\n",
              "      <td>0.0</td>\n",
              "      <td>0.0</td>\n",
              "      <td>0.0</td>\n",
              "      <td>0.0</td>\n",
              "      <td>0.0</td>\n",
              "      <td>0.0</td>\n",
              "      <td>0.0</td>\n",
              "      <td>0.0</td>\n",
              "      <td>0.0</td>\n",
              "      <td>0.0</td>\n",
              "      <td>0.0</td>\n",
              "      <td>0.0</td>\n",
              "      <td>0.0</td>\n",
              "      <td>0.0</td>\n",
              "      <td>0.0</td>\n",
              "      <td>0.0</td>\n",
              "      <td>0.0</td>\n",
              "      <td>0.0</td>\n",
              "      <td>...</td>\n",
              "      <td>0.0</td>\n",
              "      <td>0.0</td>\n",
              "      <td>0.0</td>\n",
              "      <td>0.0</td>\n",
              "      <td>0.0</td>\n",
              "      <td>0.0</td>\n",
              "      <td>0.0</td>\n",
              "      <td>0.0</td>\n",
              "      <td>0.0</td>\n",
              "      <td>0.0</td>\n",
              "      <td>0.0</td>\n",
              "      <td>0.0</td>\n",
              "      <td>0.0</td>\n",
              "      <td>0.0</td>\n",
              "      <td>0.0</td>\n",
              "      <td>0.0</td>\n",
              "      <td>0.0</td>\n",
              "      <td>0.0</td>\n",
              "      <td>0.0</td>\n",
              "      <td>0.0</td>\n",
              "      <td>0.0</td>\n",
              "      <td>0.0</td>\n",
              "      <td>0.0</td>\n",
              "      <td>0.0</td>\n",
              "      <td>0.0</td>\n",
              "      <td>0.0</td>\n",
              "      <td>0.0</td>\n",
              "      <td>0.0</td>\n",
              "      <td>0.0</td>\n",
              "      <td>0.0</td>\n",
              "      <td>0.0</td>\n",
              "      <td>0.0</td>\n",
              "      <td>0.0</td>\n",
              "      <td>0.0</td>\n",
              "      <td>0.0</td>\n",
              "      <td>0.0</td>\n",
              "      <td>0.0</td>\n",
              "      <td>0.0</td>\n",
              "      <td>0.0</td>\n",
              "      <td>0.0</td>\n",
              "    </tr>\n",
              "  </tbody>\n",
              "</table>\n",
              "<p>5 rows × 7788 columns</p>\n",
              "</div>"
            ],
            "text/plain": [
              "    00  000  ...  zyspbx0x9fiol4khoxtvvmifenu2cimc  zzjdhsfe\n",
              "0  0.0  0.0  ...                               0.0       0.0\n",
              "1  0.0  0.0  ...                               0.0       0.0\n",
              "2  0.0  0.0  ...                               0.0       0.0\n",
              "3  0.0  0.0  ...                               0.0       0.0\n",
              "4  0.0  0.0  ...                               0.0       0.0\n",
              "\n",
              "[5 rows x 7788 columns]"
            ]
          },
          "metadata": {
            "tags": []
          },
          "execution_count": 23
        }
      ]
    },
    {
      "cell_type": "code",
      "metadata": {
        "id": "OUAvr9Ta9enS",
        "colab_type": "code",
        "outputId": "574bfc35-a410-431b-d6f1-612fadd91e06",
        "colab": {
          "base_uri": "https://localhost:8080/",
          "height": 126
        }
      },
      "source": [
        "X_train.head()"
      ],
      "execution_count": 24,
      "outputs": [
        {
          "output_type": "execute_result",
          "data": {
            "text/plain": [
              "1737    'Big Daddy' laps up Cipla after Q1 nos beat fo...\n",
              "3281     Kartarpur Corridor: In half-hearted attempt, ...\n",
              "3863     In Japan, the business of watching whales is ...\n",
              "4477     Pro-Balochistan activists disrupt Imran Khan'...\n",
              "2144     IMF approves $6 billion loan for cash-strappe...\n",
              "Name: news, dtype: object"
            ]
          },
          "metadata": {
            "tags": []
          },
          "execution_count": 24
        }
      ]
    },
    {
      "cell_type": "code",
      "metadata": {
        "id": "hF5x6vnFccSt",
        "colab_type": "code",
        "colab": {}
      },
      "source": [
        "\n",
        "def plot_confusion_matrix(cm, classes,\n",
        "                          normalize=False,\n",
        "                          title='Confusion matrix',\n",
        "                          cmap=plt.cm.Blues):\n",
        "    \"\"\"\n",
        "    See full source and example: \n",
        "    http://scikit-learn.org/stable/auto_examples/model_selection/plot_confusion_matrix.html\n",
        "    \n",
        "    This function prints and plots the confusion matrix.\n",
        "    Normalization can be applied by setting `normalize=True`.\n",
        "    \"\"\"\n",
        "    plt.imshow(cm, interpolation='nearest', cmap=cmap)\n",
        "    plt.title(title)\n",
        "    plt.colorbar()\n",
        "    tick_marks = np.arange(len(classes))\n",
        "    plt.xticks(tick_marks, classes, rotation=45)\n",
        "    plt.yticks(tick_marks, classes)\n",
        "\n",
        "    if normalize:\n",
        "        cm = cm.astype('float') / cm.sum(axis=1)[:, np.newaxis]\n",
        "        print(\"Normalized confusion matrix\")\n",
        "    else:\n",
        "        print('Confusion matrix, without normalization')\n",
        "\n",
        "    thresh = cm.max() / 2.\n",
        "    for i, j in itertools.product(range(cm.shape[0]), range(cm.shape[1])):\n",
        "        plt.text(j, i, cm[i, j],\n",
        "                 horizontalalignment=\"center\",\n",
        "                 color=\"white\" if cm[i, j] > thresh else \"black\")\n",
        "\n",
        "    plt.tight_layout()\n",
        "    plt.ylabel('True label')\n",
        "    plt.xlabel('Predicted label')"
      ],
      "execution_count": 0,
      "outputs": []
    },
    {
      "cell_type": "code",
      "metadata": {
        "id": "SpJJfRAXlF-p",
        "colab_type": "code",
        "outputId": "00eb6368-11ad-4181-82e2-0ec003d2cdd4",
        "colab": {
          "base_uri": "https://localhost:8080/",
          "height": 35
        }
      },
      "source": [
        "print(y_train.unique().tolist())"
      ],
      "execution_count": 26,
      "outputs": [
        {
          "output_type": "stream",
          "text": [
            "[0]\n"
          ],
          "name": "stdout"
        }
      ]
    },
    {
      "cell_type": "code",
      "metadata": {
        "id": "-m3RpC0YM2Nl",
        "colab_type": "code",
        "colab": {}
      },
      "source": [
        ""
      ],
      "execution_count": 0,
      "outputs": []
    },
    {
      "cell_type": "code",
      "metadata": {
        "id": "IbKUb09oW6QX",
        "colab_type": "code",
        "outputId": "71ed97ad-ae8a-44af-9a41-634ceeac10d9",
        "colab": {
          "base_uri": "https://localhost:8080/",
          "height": 54
        }
      },
      "source": [
        "from sklearn.neighbors import KNeighborsClassifier\n",
        "from sklearn.metrics import accuracy_score\n",
        "knn = KNeighborsClassifier()\n",
        "#y_train_vec = tfidf_vectorizer.fit_transform(y_train)\n",
        "knn.fit(tfidf_train,y_train)\n",
        "prediction = knn.predict(tfidf_test)\n",
        "prediction_val = knn.predict(tfidf_validate)\n",
        "#y_test_vec = tfidf_vectorizer.transform(y_test)\n",
        "score = accuracy_score(y_test, prediction)\n",
        "score_val = accuracy_score(y_aug_val, prediction_val)\n",
        "print(\"test accuracy:   %0.3f\" % score)\n",
        "print(\"validation accuracy:   %0.3f\" % score_val)"
      ],
      "execution_count": 27,
      "outputs": [
        {
          "output_type": "stream",
          "text": [
            "test accuracy:   1.000\n",
            "validation accuracy:   0.497\n"
          ],
          "name": "stdout"
        }
      ]
    },
    {
      "cell_type": "code",
      "metadata": {
        "id": "PrP9ZEq91xsQ",
        "colab_type": "code",
        "outputId": "b03c41a3-8bcc-4cde-f1b5-dad13efc2d91",
        "colab": {
          "base_uri": "https://localhost:8080/",
          "height": 54
        }
      },
      "source": [
        "from sklearn.naive_bayes import MultinomialNB\n",
        "clf = MultinomialNB() \n",
        "#y_train_vec = tfidf_vectorizer.fit_transform(y_train)\n",
        "#y_test_vec = tfidf_vectorizer.transform(y_test)\n",
        "clf.fit(tfidf_train, y_train)\n",
        "pred = clf.predict(tfidf_test)\n",
        "pred_val=clf.predict(tfidf_validate)\n",
        "score = accuracy_score(y_test, pred)\n",
        "score_val = accuracy_score(y_aug_val, pred_val)\n",
        "print(\"accuracy:   %0.3f\" % score)\n",
        "print(\"accuracy:   %0.3f\" % score_val)\n",
        "#print(len(pred))\n",
        "#print(sum(y_test==1))\n",
        "#print(sum(pred==1))"
      ],
      "execution_count": 28,
      "outputs": [
        {
          "output_type": "stream",
          "text": [
            "accuracy:   1.000\n",
            "accuracy:   0.497\n"
          ],
          "name": "stdout"
        }
      ]
    },
    {
      "cell_type": "code",
      "metadata": {
        "id": "7guTLsGrNyr1",
        "colab_type": "code",
        "outputId": "5de0ede4-8488-4b4a-a002-9683abbc9b2c",
        "colab": {
          "base_uri": "https://localhost:8080/",
          "height": 110
        }
      },
      "source": [
        "from sklearn.ensemble import RandomForestClassifier\n",
        "rf = RandomForestClassifier()\n",
        "\n",
        "rf.fit(tfidf_train, y_train)\n",
        "prediction = rf.predict(tfidf_test)\n",
        "prediction_val = rf.predict(tfidf_validate)\n",
        "\n",
        "print('With Random Forest accuracy is: ',accuracy_score(y_test,prediction)) # accuracy\n",
        "print('With Random Forest accuracy is: ',accuracy_score(y_aug_val,prediction_val)) "
      ],
      "execution_count": 29,
      "outputs": [
        {
          "output_type": "stream",
          "text": [
            "With Random Forest accuracy is:  1.0\n",
            "With Random Forest accuracy is:  0.4966\n"
          ],
          "name": "stdout"
        },
        {
          "output_type": "stream",
          "text": [
            "/usr/local/lib/python3.6/dist-packages/sklearn/ensemble/forest.py:245: FutureWarning: The default value of n_estimators will change from 10 in version 0.20 to 100 in 0.22.\n",
            "  \"10 in version 0.20 to 100 in 0.22.\", FutureWarning)\n"
          ],
          "name": "stderr"
        }
      ]
    },
    {
      "cell_type": "code",
      "metadata": {
        "id": "JFDEzO4Dl53L",
        "colab_type": "code",
        "outputId": "89e29c05-c403-44ef-8837-dba5fd6e87ec",
        "colab": {
          "base_uri": "https://localhost:8080/",
          "height": 1000
        }
      },
      "source": [
        "y_aug_val"
      ],
      "execution_count": 30,
      "outputs": [
        {
          "output_type": "execute_result",
          "data": {
            "text/plain": [
              "0       0\n",
              "1       0\n",
              "2       1\n",
              "3       0\n",
              "4       1\n",
              "5       0\n",
              "6       0\n",
              "7       1\n",
              "8       1\n",
              "9       1\n",
              "10      1\n",
              "11      1\n",
              "12      0\n",
              "13      0\n",
              "14      1\n",
              "15      1\n",
              "16      0\n",
              "17      0\n",
              "18      1\n",
              "19      1\n",
              "20      1\n",
              "21      0\n",
              "22      1\n",
              "23      1\n",
              "24      0\n",
              "25      1\n",
              "26      1\n",
              "27      1\n",
              "28      1\n",
              "29      0\n",
              "       ..\n",
              "4970    1\n",
              "4971    1\n",
              "4972    1\n",
              "4973    0\n",
              "4974    0\n",
              "4975    0\n",
              "4976    1\n",
              "4977    0\n",
              "4978    0\n",
              "4979    0\n",
              "4980    0\n",
              "4981    0\n",
              "4982    0\n",
              "4983    0\n",
              "4984    0\n",
              "4985    1\n",
              "4986    1\n",
              "4987    0\n",
              "4988    0\n",
              "4989    1\n",
              "4990    1\n",
              "4991    1\n",
              "4992    1\n",
              "4993    0\n",
              "4994    1\n",
              "4995    1\n",
              "4996    0\n",
              "4997    0\n",
              "4998    0\n",
              "4999    1\n",
              "Name: label, Length: 5000, dtype: int64"
            ]
          },
          "metadata": {
            "tags": []
          },
          "execution_count": 30
        }
      ]
    },
    {
      "cell_type": "code",
      "metadata": {
        "id": "VBT5IRkgmCDV",
        "colab_type": "code",
        "outputId": "11cf2d13-2be8-4fb1-fd30-68e52bec0ac5",
        "colab": {
          "base_uri": "https://localhost:8080/",
          "height": 54
        }
      },
      "source": [
        "print(sum(prediction_val==1))\n",
        "prediction_val.shape"
      ],
      "execution_count": 31,
      "outputs": [
        {
          "output_type": "stream",
          "text": [
            "0\n"
          ],
          "name": "stdout"
        },
        {
          "output_type": "execute_result",
          "data": {
            "text/plain": [
              "(5000,)"
            ]
          },
          "metadata": {
            "tags": []
          },
          "execution_count": 31
        }
      ]
    },
    {
      "cell_type": "code",
      "metadata": {
        "id": "bk82Tpnh3REd",
        "colab_type": "code",
        "colab": {}
      },
      "source": [
        ""
      ],
      "execution_count": 0,
      "outputs": []
    },
    {
      "cell_type": "code",
      "metadata": {
        "id": "hRAY700ds2U5",
        "colab_type": "code",
        "outputId": "544012c4-67fa-4561-84ee-6e16dc646b01",
        "colab": {
          "base_uri": "https://localhost:8080/",
          "height": 198
        }
      },
      "source": [
        "df2.head()"
      ],
      "execution_count": 32,
      "outputs": [
        {
          "output_type": "execute_result",
          "data": {
            "text/html": [
              "<div>\n",
              "<style scoped>\n",
              "    .dataframe tbody tr th:only-of-type {\n",
              "        vertical-align: middle;\n",
              "    }\n",
              "\n",
              "    .dataframe tbody tr th {\n",
              "        vertical-align: top;\n",
              "    }\n",
              "\n",
              "    .dataframe thead th {\n",
              "        text-align: right;\n",
              "    }\n",
              "</style>\n",
              "<table border=\"1\" class=\"dataframe\">\n",
              "  <thead>\n",
              "    <tr style=\"text-align: right;\">\n",
              "      <th></th>\n",
              "      <th>news</th>\n",
              "      <th>fake</th>\n",
              "      <th>source</th>\n",
              "    </tr>\n",
              "  </thead>\n",
              "  <tbody>\n",
              "    <tr>\n",
              "      <th>1</th>\n",
              "      <td>Majority of farm animal vets report being inju...</td>\n",
              "      <td>1.0</td>\n",
              "      <td>BVA</td>\n",
              "    </tr>\n",
              "    <tr>\n",
              "      <th>3</th>\n",
              "      <td>Vets and animal welfare experts encouraged to ...</td>\n",
              "      <td>1.0</td>\n",
              "      <td>BVA</td>\n",
              "    </tr>\n",
              "    <tr>\n",
              "      <th>5</th>\n",
              "      <td>Call for top pics as BVA launches 2019 Veterin...</td>\n",
              "      <td>1.0</td>\n",
              "      <td>BVA</td>\n",
              "    </tr>\n",
              "    <tr>\n",
              "      <th>7</th>\n",
              "      <td>NI vets applaud swift action as African Swine ...</td>\n",
              "      <td>1.0</td>\n",
              "      <td>BVA</td>\n",
              "    </tr>\n",
              "    <tr>\n",
              "      <th>9</th>\n",
              "      <td>Expert speakers to go ‘behind the headlines’ a...</td>\n",
              "      <td>1.0</td>\n",
              "      <td>BVA</td>\n",
              "    </tr>\n",
              "  </tbody>\n",
              "</table>\n",
              "</div>"
            ],
            "text/plain": [
              "                                                news  fake source\n",
              "1  Majority of farm animal vets report being inju...   1.0    BVA\n",
              "3  Vets and animal welfare experts encouraged to ...   1.0    BVA\n",
              "5  Call for top pics as BVA launches 2019 Veterin...   1.0    BVA\n",
              "7  NI vets applaud swift action as African Swine ...   1.0    BVA\n",
              "9  Expert speakers to go ‘behind the headlines’ a...   1.0    BVA"
            ]
          },
          "metadata": {
            "tags": []
          },
          "execution_count": 32
        }
      ]
    },
    {
      "cell_type": "code",
      "metadata": {
        "id": "0yzV_HlL1Yij",
        "colab_type": "code",
        "colab": {}
      },
      "source": [
        "def clean_data(dataframe):\n",
        "# Drop duplicate rows\n",
        "    dataframe.drop_duplicates(subset='news', inplace=True)\n",
        "    \n",
        "    # Remove punctation\n",
        "    dataframe['news'] = dataframe['news'].str.replace('[^\\w\\s]',' ')\n",
        "# Remove numbers \n",
        "    dataframe['news'] = dataframe['news'].str.replace('[^A-Za-z]',' ')\n",
        "# Make sure any double-spaces are single \n",
        "    dataframe['news'] = dataframe['news'].str.replace('  ',' ')\n",
        "    dataframe['news'] = dataframe['news'].str.replace('  ',' ')\n",
        "# Transform all text to lowercase\n",
        "    dataframe['news'] = dataframe['news'].str.lower()\n",
        "    \n",
        "    print(\"New shape:\", dataframe.shape)\n",
        "    return dataframe.head()"
      ],
      "execution_count": 0,
      "outputs": []
    },
    {
      "cell_type": "code",
      "metadata": {
        "id": "ahD_lDdt1nWz",
        "colab_type": "code",
        "outputId": "d107f1d7-6b76-4283-bb6e-6b12893493e5",
        "colab": {
          "base_uri": "https://localhost:8080/",
          "height": 216
        }
      },
      "source": [
        "clean_data(df2)"
      ],
      "execution_count": 36,
      "outputs": [
        {
          "output_type": "stream",
          "text": [
            "New shape: (1048, 3)\n"
          ],
          "name": "stdout"
        },
        {
          "output_type": "execute_result",
          "data": {
            "text/html": [
              "<div>\n",
              "<style scoped>\n",
              "    .dataframe tbody tr th:only-of-type {\n",
              "        vertical-align: middle;\n",
              "    }\n",
              "\n",
              "    .dataframe tbody tr th {\n",
              "        vertical-align: top;\n",
              "    }\n",
              "\n",
              "    .dataframe thead th {\n",
              "        text-align: right;\n",
              "    }\n",
              "</style>\n",
              "<table border=\"1\" class=\"dataframe\">\n",
              "  <thead>\n",
              "    <tr style=\"text-align: right;\">\n",
              "      <th></th>\n",
              "      <th>news</th>\n",
              "      <th>fake</th>\n",
              "      <th>source</th>\n",
              "    </tr>\n",
              "  </thead>\n",
              "  <tbody>\n",
              "    <tr>\n",
              "      <th>1</th>\n",
              "      <td>majority of farm animal vets report being inju...</td>\n",
              "      <td>1.0</td>\n",
              "      <td>BVA</td>\n",
              "    </tr>\n",
              "    <tr>\n",
              "      <th>3</th>\n",
              "      <td>vets and animal welfare experts encouraged to ...</td>\n",
              "      <td>1.0</td>\n",
              "      <td>BVA</td>\n",
              "    </tr>\n",
              "    <tr>\n",
              "      <th>5</th>\n",
              "      <td>call for top pics as bva launches  veterinary ...</td>\n",
              "      <td>1.0</td>\n",
              "      <td>BVA</td>\n",
              "    </tr>\n",
              "    <tr>\n",
              "      <th>7</th>\n",
              "      <td>ni vets applaud swift action as african swine ...</td>\n",
              "      <td>1.0</td>\n",
              "      <td>BVA</td>\n",
              "    </tr>\n",
              "    <tr>\n",
              "      <th>9</th>\n",
              "      <td>expert speakers to go behind the headlines at ...</td>\n",
              "      <td>1.0</td>\n",
              "      <td>BVA</td>\n",
              "    </tr>\n",
              "  </tbody>\n",
              "</table>\n",
              "</div>"
            ],
            "text/plain": [
              "                                                news  fake source\n",
              "1  majority of farm animal vets report being inju...   1.0    BVA\n",
              "3  vets and animal welfare experts encouraged to ...   1.0    BVA\n",
              "5  call for top pics as bva launches  veterinary ...   1.0    BVA\n",
              "7  ni vets applaud swift action as african swine ...   1.0    BVA\n",
              "9  expert speakers to go behind the headlines at ...   1.0    BVA"
            ]
          },
          "metadata": {
            "tags": []
          },
          "execution_count": 36
        }
      ]
    },
    {
      "cell_type": "code",
      "metadata": {
        "id": "k1EYZIG71p1z",
        "colab_type": "code",
        "colab": {}
      },
      "source": [
        "from sklearn.model_selection import train_test_split\n",
        "y = df2['news'] \n",
        "#X_train, X_test, y_train, y_test = train_test_split(ds['Body'], y, test_size=0.33, random_state=53)"
      ],
      "execution_count": 0,
      "outputs": []
    },
    {
      "cell_type": "code",
      "metadata": {
        "id": "14vi3ug_4vQl",
        "colab_type": "code",
        "outputId": "f30b6435-2695-4544-d562-a2032b0fefaf",
        "colab": {
          "base_uri": "https://localhost:8080/",
          "height": 54
        }
      },
      "source": [
        "# Initialize the `tfidf_vectorizer` \n",
        "#tfidf_vectorizer = TfidfVectorizer(stop_words='english', max_df=0.7) \n",
        "\n",
        "# Fit and transform the training data \n",
        "#tfidf_evaluate = tfidf_vectorizer.fit_transform(y) \n",
        "print(y.shape)\n",
        "# Transform the test set \n",
        "tfidf_evaluate = tfidf_vectorizer.transform(y)\n",
        "print(tfidf_evaluate.shape)"
      ],
      "execution_count": 39,
      "outputs": [
        {
          "output_type": "stream",
          "text": [
            "(1048,)\n",
            "(1048, 7788)\n"
          ],
          "name": "stdout"
        }
      ]
    },
    {
      "cell_type": "code",
      "metadata": {
        "id": "BZ5zpzIVA-0X",
        "colab_type": "code",
        "outputId": "e9a6d819-0e84-431c-93e8-828a04a7d3b3",
        "colab": {
          "base_uri": "https://localhost:8080/",
          "height": 35
        }
      },
      "source": [
        "#from sklearn.neighbors import KNeighborsClassifier\n",
        "#knn = KNeighborsClassifier()\n",
        "#y_train_vec = tfidf_vectorizer.fit_transform(y_train)\n",
        "#knn.fit(tfidf_train,y_train)\n",
        "prediction = knn.predict(tfidf_evaluate)\n",
        "#y_test_vec = tfidf_vectorizer.transform(y_test)\n",
        "#score = accuracy_score(y_test, prediction)\n",
        "#print(\"accuracy:   %0.3f\" % score)\n",
        "print(prediction)"
      ],
      "execution_count": 40,
      "outputs": [
        {
          "output_type": "stream",
          "text": [
            "[0 0 0 ... 0 0 0]\n"
          ],
          "name": "stdout"
        }
      ]
    },
    {
      "cell_type": "code",
      "metadata": {
        "id": "s19J2YtEBeEp",
        "colab_type": "code",
        "outputId": "f5be7b7a-f5e0-404e-c723-9581c2b38379",
        "colab": {
          "base_uri": "https://localhost:8080/",
          "height": 35
        }
      },
      "source": [
        "#from sklearn.naive_bayes import MultinomialNB\n",
        "#clf = MultinomialNB() \n",
        "#y_train_vec = tfidf_vectorizer.fit_transform(y_train)\n",
        "#y_test_vec = tfidf_vectorizer.transform(y_test)\n",
        "#clf.fit(tfidf_train, y_train)\n",
        "pred = clf.predict(tfidf_evaluate)\n",
        "print(pred)\n",
        "#score = accuracy_score(y_test, pred)\n",
        "#print(\"accuracy:   %0.3f\" % score)"
      ],
      "execution_count": 41,
      "outputs": [
        {
          "output_type": "stream",
          "text": [
            "[0 0 0 ... 0 0 0]\n"
          ],
          "name": "stdout"
        }
      ]
    },
    {
      "cell_type": "code",
      "metadata": {
        "id": "UCFY3pIXCxZ-",
        "colab_type": "code",
        "colab": {}
      },
      "source": [
        "predictrf = rf.predict(tfidf_evaluate)"
      ],
      "execution_count": 0,
      "outputs": []
    },
    {
      "cell_type": "code",
      "metadata": {
        "id": "JxwyRFWSUQI7",
        "colab_type": "code",
        "outputId": "9197928a-6d3d-4d0d-eb82-fa8d4ad02b5c",
        "colab": {
          "base_uri": "https://localhost:8080/",
          "height": 35
        }
      },
      "source": [
        "print(predictrf)"
      ],
      "execution_count": 43,
      "outputs": [
        {
          "output_type": "stream",
          "text": [
            "[0 0 0 ... 0 0 0]\n"
          ],
          "name": "stdout"
        }
      ]
    },
    {
      "cell_type": "code",
      "metadata": {
        "id": "NIqSxrcMUW_A",
        "colab_type": "code",
        "colab": {}
      },
      "source": [
        ""
      ],
      "execution_count": 0,
      "outputs": []
    }
  ]
}